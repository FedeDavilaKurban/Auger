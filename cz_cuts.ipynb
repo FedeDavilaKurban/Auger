{
 "cells": [
  {
   "cell_type": "code",
   "execution_count": null,
   "metadata": {},
   "outputs": [],
   "source": [
    "import numpy as np\n",
    "from astropy.io import ascii\n",
    "import matplotlib.pyplot as plt\n",
    "\n",
    "filename = '../data/2MRSxWISE_sinBPTAGNs.txt'\n",
    "data = ascii.read(filename)\n",
    "\n",
    "quantiles = np.quantile(data['cz'][data['cz']<=9400.], np.linspace(0, 1, 5))\n",
    "quantiles = [1200,5000,6500,8000,9400]\n",
    "\n",
    "plt.scatter(data['cz'], -data['K_abs'],s=.5)\n",
    "plt.axvline(9400,c='k')\n",
    "[plt.axvline(quantile,c='k') for quantile in quantiles] \n",
    "plt.show()\n",
    "print(quantiles)"
   ]
  }
 ],
 "metadata": {
  "language_info": {
   "name": "python"
  }
 },
 "nbformat": 4,
 "nbformat_minor": 2
}
