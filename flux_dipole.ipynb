{
 "cells": [
  {
   "cell_type": "code",
   "execution_count": 8,
   "metadata": {},
   "outputs": [
    {
     "name": "stdout",
     "output_type": "stream",
     "text": [
      "Rayleigh dipole amplitude: 83.9938%\n",
      "Dipole RA direction: 299.85°\n"
     ]
    }
   ],
   "source": [
    "import numpy as np\n",
    "\n",
    "# === Load event data ===\n",
    "data = np.loadtxt(\"../data/Auger/events_a8_lb.dat\")\n",
    "ra = data[:, 6]   # RA in degrees\n",
    "dec = data[:, 7]  # Dec in degrees\n",
    "\n",
    "# === Convert RA to radians ===\n",
    "alpha = np.radians(ra)\n",
    "N = len(alpha)\n",
    "\n",
    "# === Rayleigh coefficients ===\n",
    "a_alpha = (2 / N) * np.sum(np.cos(alpha))\n",
    "b_alpha = (2 / N) * np.sum(np.sin(alpha))\n",
    "\n",
    "# === Dipole amplitude and RA direction ===\n",
    "r_alpha = np.sqrt(a_alpha**2 + b_alpha**2)\n",
    "phi_alpha = np.arctan2(b_alpha, a_alpha)  # in radians\n",
    "ra_dip = np.degrees(phi_alpha) % 360      # wrap to [0, 360)\n",
    "\n",
    "print(f\"Rayleigh dipole amplitude: {r_alpha:.4%}\")\n",
    "print(f\"Dipole RA direction: {ra_dip:.2f}°\")\n"
   ]
  }
 ],
 "metadata": {
  "kernelspec": {
   "display_name": "auger",
   "language": "python",
   "name": "python3"
  },
  "language_info": {
   "codemirror_mode": {
    "name": "ipython",
    "version": 3
   },
   "file_extension": ".py",
   "mimetype": "text/x-python",
   "name": "python",
   "nbconvert_exporter": "python",
   "pygments_lexer": "ipython3",
   "version": "3.13.3"
  }
 },
 "nbformat": 4,
 "nbformat_minor": 2
}
