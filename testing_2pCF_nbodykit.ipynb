{
 "cells": [
  {
   "cell_type": "code",
   "execution_count": 15,
   "metadata": {},
   "outputs": [
    {
     "name": "stdout",
     "output_type": "stream",
     "text": [
      "Gxs DEC range:-87.77deg - 44.95deg\n",
      "Gxs RA range: 0.81deg - 359.86deg\n",
      "UHECR DEC range:-89.90deg - 44.70deg\n",
      "UHECR RA range: 0.00deg - 360.00deg\n"
     ]
    },
    {
     "data": {
      "text/plain": [
       "['_RAJ2000',\n",
       " '_DEJ2000',\n",
       " 'Kcmag',\n",
       " 'Hcmag',\n",
       " 'Jcmag',\n",
       " 'Ktmag',\n",
       " 'K_abs',\n",
       " 'type',\n",
       " 'cz',\n",
       " 'JNAME',\n",
       " 'W1mag',\n",
       " 'W2mag',\n",
       " 'W3mag',\n",
       " 'class']"
      ]
     },
     "execution_count": 15,
     "metadata": {},
     "output_type": "execute_result"
    }
   ],
   "source": [
    "import numpy as np\n",
    "from astropy.io import ascii\n",
    "\n",
    "\n",
    "# Read UHECR\n",
    "filename_e = '../data/Auger/events_a8_lb.dat'\n",
    "events_a8 = ascii.read(filename_e)\n",
    "\n",
    "# Read Gxs\n",
    "filename_g = '../data/VLS/2MRSxWISE_VLS.txt'\n",
    "data = ascii.read(filename_g)\n",
    "\n",
    "data_decmin, data_decmax = data['_DEJ2000'].min(),data['_DEJ2000'].max()\n",
    "data_ramin, data_ramax = data['_RAJ2000'].min(),data['_RAJ2000'].max()\n",
    "print('Gxs DEC range:%5.2fdeg - %5.2fdeg' % (data_decmin,data_decmax))\n",
    "print('Gxs RA range:%5.2fdeg - %5.2fdeg' % (data_ramin, data_ramax))\n",
    "\n",
    "print('UHECR DEC range:%5.2fdeg - %5.2fdeg' % (events_a8['dec'].min(),events_a8['dec'].max()))\n",
    "print('UHECR RA range:%5.2fdeg - %5.2fdeg' % (events_a8['RA'].min(),events_a8['RA'].max()))\n",
    "\n",
    "data.keys()\n"
   ]
  },
  {
   "cell_type": "markdown",
   "metadata": {},
   "source": [
    "#### Autocorrelation"
   ]
  },
  {
   "cell_type": "code",
   "execution_count": 70,
   "metadata": {},
   "outputs": [
    {
     "data": {
      "image/png": "[encoded data removed]",
      "text/plain": [
       "<Figure size 432x288 with 1 Axes>"
      ]
     },
     "metadata": {
      "needs_background": "light"
     },
     "output_type": "display_data"
    }
   ],
   "source": [
    "from nbodykit.lab import *\n",
    "\n",
    "datacat = ArrayCatalog(data)#, names=['_RAJ2000','_DEJ2000','Kcmag','Hcmag','Jcmag','Ktmag','K_abs','type','cz','JNAME','W1mag','W2mag','W3mag','class'])\n",
    "rancat = RandomCatalog(len(datacat)*10, seed=42)\n",
    "rancat['_RAJ2000']  = rancat.rng.uniform(low=data_ramin, high=data_ramax)\n",
    "rancat['_DEJ2000'] = rancat.rng.uniform(low=data_decmin, high=data_decmax)\n",
    "\n",
    "nbins = 15\n",
    "bins = np.linspace(10., 90., nbins+1)\n",
    "\n",
    "r_auto = SurveyData2PCF(mode='angular',data1=datacat, randoms1=rancat, \\\n",
    "                        edges=bins, ra='_RAJ2000', dec='_DEJ2000')\n",
    "\n",
    "\n",
    "\n",
    "\n",
    "import matplotlib.pyplot as plt\n",
    "\n",
    "plt.plot(r_auto.corr['theta'],r_auto.corr['corr'])\n",
    "\n",
    "plt.xlabel(r\"$\\theta$ [$\\mathrm{degrees}$]\")\n",
    "plt.ylabel(r\"$\\xi_{LS}$\")\n",
    "plt.show()"
   ]
  },
  {
   "cell_type": "markdown",
   "metadata": {},
   "source": [
    "#### LS: (DD-2DR+RR)/RR"
   ]
  },
  {
   "cell_type": "code",
   "execution_count": 57,
   "metadata": {},
   "outputs": [
    {
     "name": "stdout",
     "output_type": "stream",
     "text": [
      "[0.86350052 0.84886458 0.83678554 0.82665121 0.82001191 0.81303016\n",
      " 0.80589137 0.79814701 0.79209664 0.79020249 0.79012245 0.79230684\n",
      " 0.79647277 0.80154752 0.80470264]\n",
      "[ 0.81956631  0.52515095  0.3974389   0.33276098  0.32692438  0.25565014\n",
      "  0.15506648  0.04053001 -0.06958128 -0.13221598 -0.20197666 -0.21432228\n",
      " -0.19848736 -0.10000608 -0.10103254]\n"
     ]
    }
   ],
   "source": [
    "ls = (r_auto.D1D2['npairs'].astype(np.float)-2.*r_auto.D1R2['npairs']+r_auto.R1R2['npairs'].astype(np.float))\\\n",
    "    /r_auto.R1R2['npairs'].astype(np.float)\n",
    "print(ls)\n",
    "\n",
    "print(r_auto.corr['corr'])"
   ]
  },
  {
   "cell_type": "code",
   "execution_count": null,
   "metadata": {},
   "outputs": [],
   "source": []
  },
  {
   "cell_type": "markdown",
   "metadata": {},
   "source": [
    "#### Crosscorrelation"
   ]
  },
  {
   "cell_type": "code",
   "execution_count": 75,
   "metadata": {},
   "outputs": [
    {
     "name": "stdout",
     "output_type": "stream",
     "text": [
      "Gxs DEC range:-87.77deg - 44.95deg\n",
      "Gxs RA range: 0.81deg - 359.86deg\n",
      "UHECR DEC range: 0.00deg - 360.00deg\n",
      "UHECR RA range: 0.00deg - 360.00deg\n"
     ]
    }
   ],
   "source": [
    "from nbodykit.lab import *\n",
    "\n",
    "datacat = ArrayCatalog(data)#, names=['_RAJ2000','_DEJ2000','Kcmag','Hcmag','Jcmag','Ktmag','K_abs','type','cz','JNAME','W1mag','W2mag','W3mag','class'])\n",
    "eventscat = ArrayCatalog(events_a8)#, names=['_RAJ2000','_DEJ2000','Kcmag','Hcmag','Jcmag','Ktmag','K_abs','type','cz','JNAME','W1mag','W2mag','W3mag','class'])\n",
    "\n",
    "data_decmin, data_decmax = data['_DEJ2000'].min(),data['_DEJ2000'].max()\n",
    "data_ramin, data_ramax = data['_RAJ2000'].min(),data['_RAJ2000'].max()\n",
    "print('Gxs DEC range:%5.2fdeg - %5.2fdeg' % (data_decmin,data_decmax))\n",
    "print('Gxs RA range:%5.2fdeg - %5.2fdeg' % (data_ramin, data_ramax))\n",
    "\n",
    "eve_decmin, eve_decmax = events_a8['dec'].min(),events_a8['dec'].max()\n",
    "eve_ramin, eve_ramax = events_a8['RA'].min(),events_a8['RA'].max()\n",
    "print('UHECR DEC range:%5.2fdeg - %5.2fdeg' % (eve_ramin, eve_ramax))\n",
    "print('UHECR RA range:%5.2fdeg - %5.2fdeg' % (eve_ramin, eve_ramax))\n",
    "\n",
    "\n",
    "datacat['RA'] = datacat['_RAJ2000']\n",
    "datacat['DEC'] = datacat['_DEJ2000']\n",
    "eventscat['DEC'] = eventscat['dec']\n",
    "\n",
    "################################################################################\n",
    "\n",
    "rancat1 = RandomCatalog(len(datacat)*10, seed=42)\n",
    "rancat1['RA']  = rancat1.rng.uniform(low=data_ramin, high=data_ramax)\n",
    "rancat1['DEC'] = rancat1.rng.uniform(low=data_decmin, high=data_decmax)\n",
    "\n",
    "\n",
    "rancat2 = RandomCatalog(len(eventscat)*10, seed=43)\n",
    "rancat2['RA']  = rancat2.rng.uniform(low=eve_ramin, high=eve_ramax)\n",
    "rancat2['DEC'] = rancat2.rng.uniform(low=eve_decmin, high=eve_decmax)\n",
    "\n",
    "nbins = 15\n",
    "bins = np.linspace(10., 90., nbins+1)\n",
    "\n",
    "r_cross = SurveyData2PCF(mode='angular',\\\n",
    "                        data1=datacat, randoms1=rancat1,\\\n",
    "                        data2=eventscat, randoms2=rancat1,\\\n",
    "                        edges=bins, ra='RA', dec='DEC')\n",
    "\n",
    "################################################################################\n",
    "\n",
    "import matplotlib.pyplot as plt\n",
    "\n",
    "plt.plot(r_cross.corr['theta'],r_cross.corr['corr'])\n",
    "\n",
    "plt.xlabel(r\"$\\theta$ [$\\mathrm{degrees}$]\")\n",
    "plt.ylabel(r\"$\\xi_{LS}$\")\n",
    "plt.show()"
   ]
  },
  {
   "cell_type": "markdown",
   "metadata": {},
   "source": [
    "##### Bright/Faint Crosscorrelation"
   ]
  },
  {
   "cell_type": "code",
   "execution_count": 5,
   "metadata": {},
   "outputs": [
    {
     "name": "stdout",
     "output_type": "stream",
     "text": [
      "Gxs DEC range:-87.77deg - 44.95deg\n",
      "Gxs RA range: 0.81deg - 359.86deg\n",
      "UHECR DEC range:-89.90deg - 44.70deg\n",
      "UHECR RA range: 0.00deg - 360.00deg\n"
     ]
    }
   ],
   "source": [
    "import numpy as np\n",
    "from astropy.io import ascii\n",
    "from nbodykit.lab import *\n",
    "\n",
    "\n",
    "# Read UHECR\n",
    "filename_e = '../data/Auger/events_a8_lb.dat'\n",
    "events_a8 = ascii.read(filename_e)\n",
    "\n",
    "# Read Gxs\n",
    "filename_g = '../data/VLS/2MRSxWISE_VLS.txt'\n",
    "data = ascii.read(filename_g)\n",
    "\n",
    "data_decmin, data_decmax = data['_DEJ2000'].min(),data['_DEJ2000'].max()\n",
    "data_ramin, data_ramax = data['_RAJ2000'].min(),data['_RAJ2000'].max()\n",
    "print('Gxs DEC range:%5.2fdeg - %5.2fdeg' % (data_decmin,data_decmax))\n",
    "print('Gxs RA range:%5.2fdeg - %5.2fdeg' % (data_ramin, data_ramax))\n",
    "\n",
    "print('UHECR DEC range:%5.2fdeg - %5.2fdeg' % (events_a8['dec'].min(),events_a8['dec'].max()))\n",
    "print('UHECR RA range:%5.2fdeg - %5.2fdeg' % (events_a8['RA'].min(),events_a8['RA'].max()))\n",
    "\n",
    "##################################################################################################\n",
    "\n",
    "data_bright = data[(data['K_abs']<-23.2)&(data['K_abs']>-26.)]\n",
    "data_faint = data[(data['K_abs']>-23.2)&(data['K_abs']<-22.)]\n",
    "\n",
    "brightcat = ArrayCatalog(data_bright)\n",
    "faintcat = ArrayCatalog(data_faint)\n",
    "eventscat = ArrayCatalog(events_a8)\n",
    "\n",
    "brightcat['RA'] = brightcat['_RAJ2000']\n",
    "brightcat['DEC'] = brightcat['_DEJ2000']\n",
    "faintcat['RA'] = faintcat['_RAJ2000']\n",
    "faintcat['DEC'] = faintcat['_DEJ2000']\n",
    "eventscat['DEC'] = eventscat['dec']\n",
    "\n",
    "\n",
    "rancat_b = RandomCatalog(len(brightcat)*10, seed=42)\n",
    "rancat_b['RA']  = rancat_b.rng.uniform(low=brightcat['RA'].min(), high=brightcat['RA'].max())\n",
    "rancat_b['DEC'] = rancat_b.rng.uniform(low=brightcat['DEC'].min(), high=brightcat['DEC'].max())\n",
    "\n",
    "\n",
    "rancat_f = RandomCatalog(len(faintcat)*10, seed=43)\n",
    "rancat_f['RA']  = rancat_f.rng.uniform(low=faintcat['RA'].min(), high=faintcat['RA'].max())\n",
    "rancat_f['DEC'] = rancat_f.rng.uniform(low=faintcat['DEC'].min(), high=faintcat['DEC'].max())\n",
    "\n",
    "#################################################################################################\n",
    "\n",
    "nbins = 15\n",
    "bins = np.linspace(10., 90., nbins+1)\n",
    "\n",
    "r_cross_b = SurveyData2PCF(mode='angular',\\\n",
    "                        data1=brightcat, randoms1=rancat_b,\\\n",
    "                        data2=eventscat, randoms2=rancat_b,\\\n",
    "                        edges=bins, ra='RA', dec='DEC')\n",
    "\n",
    "r_cross_f = SurveyData2PCF(mode='angular',\\\n",
    "                        data1=faintcat, randoms1=rancat_f,\\\n",
    "                        data2=eventscat, randoms2=rancat_f,\\\n",
    "                        edges=bins, ra='RA', dec='DEC')"
   ]
  },
  {
   "cell_type": "code",
   "execution_count": 9,
   "metadata": {},
   "outputs": [
    {
     "data": {
      "image/png": "[encoded data removed]",
      "text/plain": [
       "<Figure size 432x288 with 1 Axes>"
      ]
     },
     "metadata": {
      "needs_background": "light"
     },
     "output_type": "display_data"
    }
   ],
   "source": [
    "import matplotlib.pyplot as plt\n",
    "\n",
    "plt.plot(r_cross_f.corr['theta'],r_cross_f.corr['corr'],label='faint',c='r')\n",
    "plt.plot(r_cross_b.corr['theta'],r_cross_b.corr['corr'],label='bright',c='b')\n",
    "\n",
    "plt.legend()\n",
    "plt.xlabel(r\"$\\theta$ [$\\mathrm{degrees}$]\")\n",
    "plt.ylabel(r\"$\\omega_{LS}$\")\n",
    "plt.show()"
   ]
  }
 ],
 "metadata": {
  "kernelspec": {
   "display_name": "auger",
   "language": "python",
   "name": "python3"
  },
  "language_info": {
   "codemirror_mode": {
    "name": "ipython",
    "version": 2
   },
   "file_extension": ".py",
   "mimetype": "text/x-python",
   "name": "python",
   "nbconvert_exporter": "python",
   "pygments_lexer": "ipython2",
   "version": "2.7.16"
  }
 },
 "nbformat": 4,
 "nbformat_minor": 2
}
