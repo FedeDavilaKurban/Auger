{
 "cells": [
  {
   "cell_type": "code",
   "execution_count": 2,
   "metadata": {},
   "outputs": [
    {
     "name": "stdout",
     "output_type": "stream",
     "text": [
      "Gxs DEC range:-87.77deg - 44.95deg\n",
      "Gxs RA range: 0.81deg - 359.86deg\n",
      "UHECR DEC range:-89.90deg - 44.70deg\n",
      "UHECR RA range: 0.00deg - 360.00deg\n"
     ]
    }
   ],
   "source": [
    "import numpy as np\n",
    "from astropy.io import ascii\n",
    "\n",
    "\n",
    "# Read UHECR\n",
    "filename_e = '../data/Auger/events_a8_lb.dat'\n",
    "events_a8 = ascii.read(filename_e)\n",
    "\n",
    "# Read Gxs\n",
    "filename_g = '../data/VLS/2MRSxWISE_VLS.txt'\n",
    "data = ascii.read(filename_g)s\n",
    "\n",
    "print('Gxs DEC range:%5.2fdeg - %5.2fdeg' % (data['_DEJ2000'].min(),data['_DEJ2000'].max()))\n",
    "print('Gxs RA range:%5.2fdeg - %5.2fdeg' % (data['_RAJ2000'].min(),data['_RAJ2000'].max()))\n",
    "\n",
    "print('UHECR DEC range:%5.2fdeg - %5.2fdeg' % (events_a8['dec'].min(),events_a8['dec'].max()))\n",
    "print('UHECR RA range:%5.2fdeg - %5.2fdeg' % (events_a8['RA'].min(),events_a8['RA'].max()))\n"
   ]
  },
  {
   "cell_type": "code",
   "execution_count": 2,
   "metadata": {},
   "outputs": [
    {
     "ename": "ModuleNotFoundError",
     "evalue": "No module named 'nbodykit'",
     "output_type": "error",
     "traceback": [
      "\u001b[0;31m---------------------------------------------------------------------------\u001b[0m",
      "\u001b[0;31mModuleNotFoundError\u001b[0m                       Traceback (most recent call last)",
      "Cell \u001b[0;32mIn[2], line 1\u001b[0m\n\u001b[0;32m----> 1\u001b[0m \u001b[38;5;28;01mfrom\u001b[39;00m \u001b[38;5;21;01mnbodykit\u001b[39;00m\u001b[38;5;21;01m.\u001b[39;00m\u001b[38;5;21;01mlab\u001b[39;00m \u001b[38;5;28;01mimport\u001b[39;00m \u001b[38;5;241m*\u001b[39m\n",
      "\u001b[0;31mModuleNotFoundError\u001b[0m: No module named 'nbodykit'"
     ]
    }
   ],
   "source": [
    "from nbodykit.lab import *"
   ]
  }
 ],
 "metadata": {
  "kernelspec": {
   "display_name": "auger",
   "language": "python",
   "name": "python3"
  },
  "language_info": {
   "codemirror_mode": {
    "name": "ipython",
    "version": 3
   },
   "file_extension": ".py",
   "mimetype": "text/x-python",
   "name": "python",
   "nbconvert_exporter": "python",
   "pygments_lexer": "ipython3",
   "version": "3.11.7"
  }
 },
 "nbformat": 4,
 "nbformat_minor": 2
}
