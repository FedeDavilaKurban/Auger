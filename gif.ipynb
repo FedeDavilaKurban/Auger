{
 "cells": [
  {
   "cell_type": "code",
   "execution_count": 15,
   "metadata": {},
   "outputs": [
    {
     "name": "stderr",
     "output_type": "stream",
     "text": [
      "/tmp/ipykernel_36280/2200235397.py:9: DeprecationWarning: Starting with ImageIO v3 the behavior of this function will switch to that of iio.v3.imread. To keep the current behavior (and make this warning disappear) use `import imageio.v2 as imageio` or call `imageio.v2.imread` directly.\n",
      "  images.append(imageio.imread(file_path))\n"
     ]
    },
    {
     "name": "stdout",
     "output_type": "stream",
     "text": [
      "GIF saved as ../plots/differentbins.gif\n"
     ]
    }
   ],
   "source": [
    "import imageio\n",
    "import os\n",
    "\n",
    "def create_gif(image_folder, output_path):\n",
    "    images = []\n",
    "    for file_name in sorted(os.listdir(image_folder)):\n",
    "        if file_name.endswith(('corrAndhist.png')):\n",
    "            file_path = os.path.join(image_folder, file_name)\n",
    "            images.append(imageio.imread(file_path))\n",
    "    \n",
    "    imageio.mimsave(output_path, images, loop=0, fps=1)\n",
    "    print(f\"GIF saved as {output_path}\")\n",
    "\n",
    "# Example usage\n",
    "image_folder = '../plots/'  # Replace with the path to your image folder\n",
    "output_path = '../plots/differentbins.gif'  # Replace with your desired output path\n",
    "create_gif(image_folder, output_path)\n"
   ]
  }
 ],
 "metadata": {
  "kernelspec": {
   "display_name": "auger",
   "language": "python",
   "name": "python3"
  },
  "language_info": {
   "codemirror_mode": {
    "name": "ipython",
    "version": 3
   },
   "file_extension": ".py",
   "mimetype": "text/x-python",
   "name": "python",
   "nbconvert_exporter": "python",
   "pygments_lexer": "ipython3",
   "version": "3.12.2"
  }
 },
 "nbformat": 4,
 "nbformat_minor": 2
}
