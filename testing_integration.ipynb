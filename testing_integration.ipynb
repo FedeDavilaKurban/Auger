{
 "cells": [
  {
   "cell_type": "code",
   "execution_count": 21,
   "metadata": {},
   "outputs": [
    {
     "name": "stdout",
     "output_type": "stream",
     "text": [
      "4.75827966169703\n"
     ]
    }
   ],
   "source": [
    "import numpy as np\n",
    "from scipy import integrate\n",
    "\n",
    "nmult = 50\n",
    "\n",
    "fname_b = f'../data/treecorr_cross_bright_{nmult}_passivecrop.npz'\n",
    "fname_f = f'../data/treecorr_cross_faint_{nmult}_passivecrop.npz'\n",
    "\n",
    "cross_bright = np.load(fname_b)\n",
    "r, xib, sigb = cross_bright['arr_0'],cross_bright['arr_1'],cross_bright['arr_2']\n",
    "\n",
    "\n",
    "int_b = integrate.simpson(xib[:-5],x=r[:-5])\n",
    "\n",
    "fname_b = f'../data/treecorr_cross_faint_{nmult}.npz'\n",
    "cross_faint = np.load(fname_f)\n",
    "r, xif, sigf = cross_faint['arr_0'],cross_faint['arr_1'],cross_faint['arr_2']\n",
    "\n",
    "int_f = integrate.simpson(xif[:-5],x=r[:-5])\n",
    "\n",
    "print(int_b/int_f)"
   ]
  },
  {
   "cell_type": "code",
   "execution_count": 39,
   "metadata": {},
   "outputs": [
    {
     "data": {
      "text/plain": [
       "3.5476293787308806"
      ]
     },
     "execution_count": 39,
     "metadata": {},
     "output_type": "execute_result"
    }
   ],
   "source": [
    "from astropy.io import ascii\n",
    "\n",
    "# Read Gxs\n",
    "filename_g = '../data/VLS/2MRSxWISE_VLS_passivecrop.txt'\n",
    "data = ascii.read(filename_g)\n",
    "\n",
    "# Bright/Faint\n",
    "data_bright = data[(data['K_abs']<-23.2)&(data['K_abs']>-26.)]\n",
    "data_faint = data[(data['K_abs']>-23.2)&(data['K_abs']<-22.)]\n",
    "\n",
    "10**(-.4*(np.mean(data_bright['K_abs'])-np.mean(data_faint['K_abs'])))"
   ]
  },
  {
   "cell_type": "code",
   "execution_count": null,
   "metadata": {},
   "outputs": [],
   "source": []
  }
 ],
 "metadata": {
  "kernelspec": {
   "display_name": "auger",
   "language": "python",
   "name": "python3"
  },
  "language_info": {
   "codemirror_mode": {
    "name": "ipython",
    "version": 3
   },
   "file_extension": ".py",
   "mimetype": "text/x-python",
   "name": "python",
   "nbconvert_exporter": "python",
   "pygments_lexer": "ipython3",
   "version": "3.12.2"
  }
 },
 "nbformat": 4,
 "nbformat_minor": 2
}
